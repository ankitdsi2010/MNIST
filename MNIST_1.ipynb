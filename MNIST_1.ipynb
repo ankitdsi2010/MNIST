{
  "nbformat": 4,
  "nbformat_minor": 0,
  "metadata": {
    "colab": {
      "name": "MNIST_1.ipynb",
      "provenance": [],
      "authorship_tag": "ABX9TyMQHUNuezut9C3+BmgTR2XH",
      "include_colab_link": true
    },
    "kernelspec": {
      "name": "python3",
      "display_name": "Python 3"
    }
  },
  "cells": [
    {
      "cell_type": "markdown",
      "metadata": {
        "id": "view-in-github",
        "colab_type": "text"
      },
      "source": [
        "<a href=\"https://colab.research.google.com/github/ankitdsi2010/MNIST/blob/master/MNIST_1.ipynb\" target=\"_parent\"><img src=\"https://colab.research.google.com/assets/colab-badge.svg\" alt=\"Open In Colab\"/></a>"
      ]
    },
    {
      "cell_type": "code",
      "metadata": {
        "id": "8hY2jPEuF-yc",
        "colab_type": "code",
        "colab": {
          "base_uri": "https://localhost:8080/",
          "height": 52
        },
        "outputId": "0b5f7633-3b6e-4005-a73b-2b47e04b2fda"
      },
      "source": [
        "!pip install helper==2.4.2\n",
        "\n",
        "import numpy as np\n",
        "import torch\n",
        "import torchvision\n",
        "import matplotlib.pyplot as plt\n",
        "from time import time\n",
        "from torchvision import datasets, transforms\n",
        "from torch import nn, optim\n",
        "import helper\n"
      ],
      "execution_count": 1,
      "outputs": [
        {
          "output_type": "stream",
          "text": [
            "Requirement already satisfied: helper==2.4.2 in /usr/local/lib/python3.6/dist-packages (2.4.2)\n",
            "Requirement already satisfied: pyyaml in /usr/local/lib/python3.6/dist-packages (from helper==2.4.2) (3.13)\n"
          ],
          "name": "stdout"
        }
      ]
    },
    {
      "cell_type": "code",
      "metadata": {
        "id": "FTRt6LcHGCSc",
        "colab_type": "code",
        "colab": {}
      },
      "source": [
        "transform = transforms.Compose([transforms.ToTensor(),\n",
        "                              transforms.Normalize((0.5,), (0.5,)),\n",
        "                              ])"
      ],
      "execution_count": 0,
      "outputs": []
    },
    {
      "cell_type": "code",
      "metadata": {
        "id": "3P0-rZWFGUUN",
        "colab_type": "code",
        "colab": {}
      },
      "source": [
        "trainset = datasets.MNIST('PATH_TO_STORE_TRAINSET', download=True, train=True, transform=transform)\n",
        "testset = datasets.MNIST('PATH_TO_STORE_TESTSET', download=True, train=False, transform=transform)\n",
        "trainloader = torch.utils.data.DataLoader(trainset, batch_size=32, shuffle=True)\n",
        "testloader = torch.utils.data.DataLoader(testset, batch_size=32, shuffle=True)"
      ],
      "execution_count": 0,
      "outputs": []
    },
    {
      "cell_type": "code",
      "metadata": {
        "id": "bK3qT51aGp0a",
        "colab_type": "code",
        "colab": {
          "base_uri": "https://localhost:8080/",
          "height": 52
        },
        "outputId": "1c40b47e-cdde-4686-a182-8254cd032d1a"
      },
      "source": [
        "data_tr_it = iter(trainloader)\n",
        "images, labels = data_tr_it.next()\n",
        "print(images.shape)\n",
        "print(labels.shape)"
      ],
      "execution_count": 4,
      "outputs": [
        {
          "output_type": "stream",
          "text": [
            "torch.Size([32, 1, 28, 28])\n",
            "torch.Size([32])\n"
          ],
          "name": "stdout"
        }
      ]
    },
    {
      "cell_type": "code",
      "metadata": {
        "id": "8VbC77zIG9L3",
        "colab_type": "code",
        "colab": {
          "base_uri": "https://localhost:8080/",
          "height": 248
        },
        "outputId": "9f80d943-97a3-4cbc-cc55-7f8a7bd9a9a2"
      },
      "source": [
        "figure = plt.figure()\n",
        "num_of_images = 25\n",
        "for index in range(1, num_of_images + 1):\n",
        "    plt.subplot(5, 5, index)\n",
        "    plt.axis('off')\n",
        "    plt.imshow(images[index].numpy().squeeze(), cmap='gray_r')"
      ],
      "execution_count": 5,
      "outputs": [
        {
          "output_type": "display_data",
          "data": {
            "image/png": "[encoded data removed]",
            "text/plain": [
              "<Figure size 432x288 with 25 Axes>"
            ]
          },
          "metadata": {
            "tags": []
          }
        }
      ]
    },
    {
      "cell_type": "code",
      "metadata": {
        "id": "85yW1ss0HLzh",
        "colab_type": "code",
        "colab": {
          "base_uri": "https://localhost:8080/",
          "height": 157
        },
        "outputId": "1e1f4321-62ac-4236-968f-d6ef97c1cd2c"
      },
      "source": [
        "input_size = 784\n",
        "hidden_sizes = [408, 124, 64]\n",
        "output_size = 10\n",
        "\n",
        "class Model(nn.Module):\n",
        "    def __init__(self, num_inputs = 784, num_outputs = 10, num_hiddens_1 = 408, num_hiddens_2 = 124, num_hiddens_3 = 64, is_training = True):\n",
        "        super(Model, self).__init__()\n",
        "        self.num_inputs = num_inputs\n",
        "        self.num_outputs = num_outputs\n",
        "        self.num_hiddens_1 = num_hiddens_1\n",
        "        self.num_hiddens_2 = num_hiddens_2\n",
        "        self.num_hiddens_3 = num_hiddens_3\n",
        "        self.linear_1 = nn.Linear(num_inputs, num_hiddens_1)\n",
        "        self.linear_2 = nn.Linear(num_hiddens_1, num_hiddens_2)\n",
        "        self.linear_3 = nn.Linear(num_hiddens_2, num_hiddens_3)\n",
        "        self.linear_4 = nn.Linear(num_hiddens_3, num_outputs)\n",
        "        self.relu = nn.ReLU()\n",
        "        self.lsm = nn.LogSoftmax(dim=1)\n",
        "\n",
        "    def forward(self, X):\n",
        "        X = X.reshape((-1, self.num_inputs))\n",
        "        H1 = self.relu(self.linear_1(X))\n",
        "        H2 = self.relu(self.linear_2(H1))\n",
        "        H3 = self.relu(self.linear_3(H2))\n",
        "        out = self.lsm(self.linear_4(H3))\n",
        "        return out   \n",
        "    \n",
        "model = Model()\n",
        "print(model)"
      ],
      "execution_count": 9,
      "outputs": [
        {
          "output_type": "stream",
          "text": [
            "Model(\n",
            "  (linear_1): Linear(in_features=784, out_features=408, bias=True)\n",
            "  (linear_2): Linear(in_features=408, out_features=124, bias=True)\n",
            "  (linear_3): Linear(in_features=124, out_features=64, bias=True)\n",
            "  (linear_4): Linear(in_features=64, out_features=10, bias=True)\n",
            "  (relu): ReLU()\n",
            "  (lsm): LogSoftmax()\n",
            ")\n"
          ],
          "name": "stdout"
        }
      ]
    },
    {
      "cell_type": "code",
      "metadata": {
        "id": "ma7YWnk4IBYj",
        "colab_type": "code",
        "colab": {}
      },
      "source": [
        "criterion = nn.NLLLoss()\n",
        "images, labels = next(iter(trainloader))\n",
        "images = images.view(images.shape[0], -1)\n",
        "\n",
        "logps = model(images) \n",
        "loss = criterion(logps, labels) "
      ],
      "execution_count": 0,
      "outputs": []
    },
    {
      "cell_type": "code",
      "metadata": {
        "id": "EVeNJZEMOS4x",
        "colab_type": "code",
        "colab": {
          "base_uri": "https://localhost:8080/",
          "height": 491
        },
        "outputId": "794192a5-2806-4df3-d59c-e46c97ba4729"
      },
      "source": [
        "optimizer = optim.SGD(model.parameters(), lr=0.001, momentum=0.9)\n",
        "time0 = time()\n",
        "epochs = 25\n",
        "for e in range(epochs):\n",
        "    running_loss = 0\n",
        "    for images, labels in trainloader:\n",
        "        images = images.view(images.shape[0], -1)\n",
        "        optimizer.zero_grad()\n",
        "        output = model(images)\n",
        "        loss = criterion(output, labels)\n",
        "        loss.backward()\n",
        "        optimizer.step()       \n",
        "        running_loss += loss.item()\n",
        "    else:\n",
        "        print(\"Epoch {} - Training loss: {}\".format(e, running_loss/len(trainloader)))\n",
        "print(\"\\nTraining Time (in minutes) =\",(time()-time0)/60)"
      ],
      "execution_count": 13,
      "outputs": [
        {
          "output_type": "stream",
          "text": [
            "Epoch 0 - Training loss: 0.03765070449775085\n",
            "Epoch 1 - Training loss: 0.03424752893766078\n",
            "Epoch 2 - Training loss: 0.032021108114471036\n",
            "Epoch 3 - Training loss: 0.027710536604731655\n",
            "Epoch 4 - Training loss: 0.025583302308308582\n",
            "Epoch 5 - Training loss: 0.023580381707513396\n",
            "Epoch 6 - Training loss: 0.02193341457711067\n",
            "Epoch 7 - Training loss: 0.01966233695881286\n",
            "Epoch 8 - Training loss: 0.016739251011788536\n",
            "Epoch 9 - Training loss: 0.016371974355296696\n",
            "Epoch 10 - Training loss: 0.013817399365249245\n",
            "Epoch 11 - Training loss: 0.012748507127988463\n",
            "Epoch 12 - Training loss: 0.01137182365852835\n",
            "Epoch 13 - Training loss: 0.009323058403285298\n",
            "Epoch 14 - Training loss: 0.007952129966383411\n",
            "Epoch 15 - Training loss: 0.007914753022575556\n",
            "Epoch 16 - Training loss: 0.006152936108631548\n",
            "Epoch 17 - Training loss: 0.00557993399889383\n",
            "Epoch 18 - Training loss: 0.004566327326930817\n",
            "Epoch 19 - Training loss: 0.004275995912467867\n",
            "Epoch 20 - Training loss: 0.004117086383375863\n",
            "Epoch 21 - Training loss: 0.003415931651769885\n",
            "Epoch 22 - Training loss: 0.0027707312126129787\n",
            "Epoch 23 - Training loss: 0.0029381154208778753\n",
            "Epoch 24 - Training loss: 0.0022083784638335297\n",
            "\n",
            "Training Time (in minutes) = 6.646085238456726\n"
          ],
          "name": "stdout"
        }
      ]
    },
    {
      "cell_type": "code",
      "metadata": {
        "id": "IltLYJjjOvhP",
        "colab_type": "code",
        "colab": {
          "base_uri": "https://localhost:8080/",
          "height": 270
        },
        "outputId": "f4471c36-5625-4b3e-eaf0-9eba247fc7c7"
      },
      "source": [
        "images, labels = next(iter(testloader))\n",
        "img = images[3].view(1, 784)\n",
        "with torch.no_grad():\n",
        "    logps = model(img)\n",
        "ps = torch.exp(logps)\n",
        "probab = list(ps.numpy()[0])\n",
        "print(\"Predicted Digit =\", probab.index(max(probab)))\n",
        "helper.view_classify(img.view(1, 28, 28), ps)"
      ],
      "execution_count": 16,
      "outputs": [
        {
          "output_type": "stream",
          "text": [
            "Predicted Digit = 1\n"
          ],
          "name": "stdout"
        },
        {
          "output_type": "display_data",
          "data": {
            "image/png": "[encoded data removed]",
            "text/plain": [
              "<Figure size 432x648 with 2 Axes>"
            ]
          },
          "metadata": {
            "tags": []
          }
        }
      ]
    },
    {
      "cell_type": "code",
      "metadata": {
        "id": "0giCsT28QOp_",
        "colab_type": "code",
        "colab": {
          "base_uri": "https://localhost:8080/",
          "height": 70
        },
        "outputId": "d6c85a85-52fc-4074-a46b-c733be54e297"
      },
      "source": [
        "correct_count, all_count = 0, 0\n",
        "for images,labels in testloader:\n",
        "  for i in range(len(labels)):\n",
        "    img = images[i].view(1, 784)\n",
        "    with torch.no_grad():\n",
        "        logps = model(img)\n",
        "    ps = torch.exp(logps)\n",
        "    probab = list(ps.numpy()[0])\n",
        "    pred_label = probab.index(max(probab))\n",
        "    true_label = labels.numpy()[i]\n",
        "    if(true_label == pred_label):\n",
        "      correct_count += 1\n",
        "    all_count += 1\n",
        "\n",
        "print(\"Number Of Images Tested =\", all_count)\n",
        "print(\"\\nModel Accuracy =\", (correct_count/all_count))"
      ],
      "execution_count": 17,
      "outputs": [
        {
          "output_type": "stream",
          "text": [
            "Number Of Images Tested = 10000\n",
            "\n",
            "Model Accuracy = 0.9817\n"
          ],
          "name": "stdout"
        }
      ]
    },
    {
      "cell_type": "code",
      "metadata": {
        "id": "h-lthAcgQ9on",
        "colab_type": "code",
        "colab": {}
      },
      "source": [
        ""
      ],
      "execution_count": 0,
      "outputs": []
    }
  ]
}